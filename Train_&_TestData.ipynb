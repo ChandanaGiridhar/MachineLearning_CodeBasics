{
  "nbformat": 4,
  "nbformat_minor": 0,
  "metadata": {
    "colab": {
      "provenance": []
    },
    "kernelspec": {
      "name": "python3",
      "display_name": "Python 3"
    },
    "language_info": {
      "name": "python"
    }
  },
  "cells": [
    {
      "cell_type": "code",
      "execution_count": null,
      "metadata": {
        "id": "3f1hd7pAHjtq"
      },
      "outputs": [],
      "source": [
        "from sklearn.model_selection import train_test_split"
      ]
    },
    {
      "cell_type": "code",
      "source": [
        "X_train, X_test, Y_Train, Y_Test = train_test_split(X,y,test_size=0.2)"
      ],
      "metadata": {
        "id": "kaqjO--zIRC_"
      },
      "execution_count": null,
      "outputs": []
    },
    {
      "cell_type": "code",
      "source": [
        "len(X_train)"
      ],
      "metadata": {
        "id": "gB9JcaXlIuCb"
      },
      "execution_count": null,
      "outputs": []
    },
    {
      "cell_type": "code",
      "source": [
        "len(X_test)"
      ],
      "metadata": {
        "id": "ixy3_xO9IwUj"
      },
      "execution_count": null,
      "outputs": []
    },
    {
      "cell_type": "code",
      "source": [
        "X_train"
      ],
      "metadata": {
        "id": "rUFi5z8CIzUK"
      },
      "execution_count": null,
      "outputs": []
    },
    {
      "cell_type": "code",
      "source": [
        "from sklearnlinear_model import LinearRegression\n",
        "clf = LinearRegression()\n",
        "clf.fit(X_train, Y_train)"
      ],
      "metadata": {
        "id": "ESA-ZB8MKSLH"
      },
      "execution_count": null,
      "outputs": []
    },
    {
      "cell_type": "code",
      "source": [
        "clf.predict(X_Test)"
      ],
      "metadata": {
        "id": "0ZbO6c7NKgXi"
      },
      "execution_count": null,
      "outputs": []
    },
    {
      "cell_type": "code",
      "source": [
        "clf.score(X_test, Y_Test)"
      ],
      "metadata": {
        "id": "gqpapLhkKjbx"
      },
      "execution_count": null,
      "outputs": []
    }
  ]
}